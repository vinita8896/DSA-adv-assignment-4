{
 "cells": [
  {
   "cell_type": "markdown",
   "id": "953094eb",
   "metadata": {},
   "source": [
    "# Breadth First Traversal for a Graph"
   ]
  },
  {
   "cell_type": "code",
   "execution_count": 2,
   "id": "d8ccb0c1",
   "metadata": {},
   "outputs": [
    {
     "name": "stdout",
     "output_type": "stream",
     "text": [
      "Breadth-First Traversal (BFS):\n",
      "[2, 0, 3, 1]\n"
     ]
    }
   ],
   "source": [
    "from collections import defaultdict, deque\n",
    "\n",
    "class Graph:\n",
    "    def __init__(self):\n",
    "        self.graph = defaultdict(list)\n",
    "\n",
    "    def add_edge(self, u, v):\n",
    "        self.graph[u].append(v)\n",
    "\n",
    "    def bfs(self, start):\n",
    "        visited = set()\n",
    "        queue = deque()\n",
    "        result = []\n",
    "\n",
    "        visited.add(start)\n",
    "        queue.append(start)\n",
    "\n",
    "        while queue:\n",
    "            vertex = queue.popleft()\n",
    "            result.append(vertex)\n",
    "\n",
    "            for neighbor in self.graph[vertex]:\n",
    "                if neighbor not in visited:\n",
    "                    visited.add(neighbor)\n",
    "                    queue.append(neighbor)\n",
    "\n",
    "        return result\n",
    "\n",
    "\n",
    "if __name__ == \"__main__\":\n",
    "    g = Graph()\n",
    "    g.add_edge(0, 1)\n",
    "    g.add_edge(0, 2)\n",
    "    g.add_edge(1, 2)\n",
    "    g.add_edge(2, 0)\n",
    "    g.add_edge(2, 3)\n",
    "    g.add_edge(3, 3)\n",
    "\n",
    "    start_vertex = 2\n",
    "\n",
    "    print(\"Breadth-First Traversal (BFS):\")\n",
    "    bfs_result = g.bfs(start_vertex)\n",
    "    print(bfs_result)\n"
   ]
  },
  {
   "cell_type": "markdown",
   "id": "fa554449",
   "metadata": {},
   "source": [
    "# Depth First Traversal for a Graph"
   ]
  },
  {
   "cell_type": "code",
   "execution_count": 3,
   "id": "a12560ea",
   "metadata": {},
   "outputs": [
    {
     "name": "stdout",
     "output_type": "stream",
     "text": [
      "Depth-First Traversal (DFS):\n",
      "[2, 0, 1, 3]\n"
     ]
    }
   ],
   "source": [
    "from collections import defaultdict\n",
    "\n",
    "class Graph:\n",
    "    def __init__(self):\n",
    "        self.graph = defaultdict(list)\n",
    "\n",
    "    def add_edge(self, u, v):\n",
    "        self.graph[u].append(v)\n",
    "\n",
    "    def dfs_recursive(self, node, visited, result):\n",
    "        visited.add(node)\n",
    "        result.append(node)\n",
    "\n",
    "        for neighbor in self.graph[node]:\n",
    "            if neighbor not in visited:\n",
    "                self.dfs_recursive(neighbor, visited, result)\n",
    "\n",
    "    def dfs(self, start):\n",
    "        visited = set()\n",
    "        result = []\n",
    "\n",
    "        self.dfs_recursive(start, visited, result)\n",
    "        \n",
    "        return result\n",
    "\n",
    "\n",
    "if __name__ == \"__main__\":\n",
    "    g = Graph()\n",
    "    g.add_edge(0, 1)\n",
    "    g.add_edge(0, 2)\n",
    "    g.add_edge(1, 2)\n",
    "    g.add_edge(2, 0)\n",
    "    g.add_edge(2, 3)\n",
    "    g.add_edge(3, 3)\n",
    "\n",
    "    start_vertex = 2\n",
    "\n",
    "    print(\"Depth-First Traversal (DFS):\")\n",
    "    dfs_result = g.dfs(start_vertex)\n",
    "    print(dfs_result)\n"
   ]
  },
  {
   "cell_type": "markdown",
   "id": "861a8928",
   "metadata": {},
   "source": [
    "# Count the number of nodes at given level in a tree using BFS"
   ]
  },
  {
   "cell_type": "code",
   "execution_count": 4,
   "id": "07db4ae8",
   "metadata": {},
   "outputs": [
    {
     "name": "stdout",
     "output_type": "stream",
     "text": [
      "Number of nodes at level 2: 4\n"
     ]
    }
   ],
   "source": [
    "from collections import deque\n",
    "\n",
    "class TreeNode:\n",
    "    def __init__(self, key):\n",
    "        self.val = key\n",
    "        self.left = None\n",
    "        self.right = None\n",
    "\n",
    "def count_nodes_at_level(root, target_level):\n",
    "    if root is None:\n",
    "        return 0\n",
    "\n",
    "    level = 0\n",
    "    queue = deque()\n",
    "    queue.append(root)\n",
    "\n",
    "    while queue:\n",
    "        level_size = len(queue)\n",
    "\n",
    "        for _ in range(level_size):\n",
    "            node = queue.popleft()\n",
    "\n",
    "            if level == target_level:\n",
    "                return level_size\n",
    "\n",
    "            if node.left:\n",
    "                queue.append(node.left)\n",
    "            if node.right:\n",
    "                queue.append(node.right)\n",
    "\n",
    "        level += 1\n",
    "\n",
    "    return 0  # Level not found\n",
    "\n",
    "\n",
    "if __name__ == \"__main__\":\n",
    "    root = TreeNode(1)\n",
    "    root.left = TreeNode(2)\n",
    "    root.right = TreeNode(3)\n",
    "    root.left.left = TreeNode(4)\n",
    "    root.left.right = TreeNode(5)\n",
    "    root.right.left = TreeNode(6)\n",
    "    root.right.right = TreeNode(7)\n",
    "\n",
    "    target_level = 2\n",
    "\n",
    "    count = count_nodes_at_level(root, target_level)\n",
    "    print(f\"Number of nodes at level {target_level}: {count}\")\n"
   ]
  },
  {
   "cell_type": "markdown",
   "id": "e47d3999",
   "metadata": {},
   "source": [
    "# Count number of trees in a forest"
   ]
  },
  {
   "cell_type": "code",
   "execution_count": 5,
   "id": "7d10ec0a",
   "metadata": {},
   "outputs": [
    {
     "name": "stdout",
     "output_type": "stream",
     "text": [
      "Number of trees in the forest: 2\n"
     ]
    }
   ],
   "source": [
    "from collections import defaultdict\n",
    "\n",
    "class Graph:\n",
    "    def __init__(self):\n",
    "        self.graph = defaultdict(list)\n",
    "\n",
    "    def add_edge(self, u, v):\n",
    "        self.graph[u].append(v)\n",
    "        self.graph[v].append(u)  # Assuming an undirected graph\n",
    "\n",
    "    def dfs(self, node, visited):\n",
    "        visited.add(node)\n",
    "        for neighbor in self.graph[node]:\n",
    "            if neighbor not in visited:\n",
    "                self.dfs(neighbor, visited)\n",
    "\n",
    "    def count_trees(self):\n",
    "        visited = set()\n",
    "        count = 0\n",
    "\n",
    "        for node in self.graph:\n",
    "            if node not in visited:\n",
    "                self.dfs(node, visited)\n",
    "                count += 1\n",
    "\n",
    "        return count\n",
    "\n",
    "\n",
    "if __name__ == \"__main__\":\n",
    "    g = Graph()\n",
    "    g.add_edge(0, 1)\n",
    "    g.add_edge(0, 2)\n",
    "    g.add_edge(3, 4)\n",
    "\n",
    "    count = g.count_trees()\n",
    "    print(f\"Number of trees in the forest: {count}\")\n"
   ]
  },
  {
   "cell_type": "markdown",
   "id": "7b919b86",
   "metadata": {},
   "source": [
    "# Detect Cycle in a Directed Graph"
   ]
  },
  {
   "cell_type": "code",
   "execution_count": 6,
   "id": "68e4811b",
   "metadata": {},
   "outputs": [
    {
     "name": "stdout",
     "output_type": "stream",
     "text": [
      "The graph contains a cycle.\n"
     ]
    }
   ],
   "source": [
    "from collections import defaultdict\n",
    "\n",
    "class Graph:\n",
    "    def __init__(self):\n",
    "        self.graph = defaultdict(list)\n",
    "\n",
    "    def add_edge(self, u, v):\n",
    "        self.graph[u].append(v)\n",
    "\n",
    "    def is_cyclic_util(self, node, visited, stack):\n",
    "        visited[node] = True\n",
    "        stack[node] = True\n",
    "\n",
    "        for neighbor in self.graph[node]:\n",
    "            if not visited[neighbor]:\n",
    "                if self.is_cyclic_util(neighbor, visited, stack):\n",
    "                    return True\n",
    "            elif stack[neighbor]:\n",
    "                return True\n",
    "\n",
    "        stack[node] = False\n",
    "        return False\n",
    "\n",
    "    def is_cyclic(self):\n",
    "        visited = [False] * len(self.graph)\n",
    "        stack = [False] * len(self.graph)\n",
    "\n",
    "        for node in self.graph:\n",
    "            if not visited[node]:\n",
    "                if self.is_cyclic_util(node, visited, stack):\n",
    "                    return True\n",
    "\n",
    "        return False\n",
    "\n",
    "\n",
    "if __name__ == \"__main__\":\n",
    "    g = Graph()\n",
    "    g.add_edge(0, 1)\n",
    "    g.add_edge(1, 2)\n",
    "    g.add_edge(2, 0)\n",
    "    g.add_edge(2, 3)\n",
    "    g.add_edge(3, 4)\n",
    "\n",
    "    if g.is_cyclic():\n",
    "        print(\"The graph contains a cycle.\")\n",
    "    else:\n",
    "        print(\"The graph does not contain a cycle.\")\n"
   ]
  },
  {
   "cell_type": "markdown",
   "id": "281b331d",
   "metadata": {},
   "source": [
    "# **Implement n-Queen’s Problem"
   ]
  },
  {
   "cell_type": "code",
   "execution_count": 10,
   "id": "eb460235",
   "metadata": {},
   "outputs": [
    {
     "name": "stdout",
     "output_type": "stream",
     "text": [
      "Solution 1:\n",
      "..Q.\n",
      "Q...\n",
      "...Q\n",
      ".Q..\n",
      "\n",
      "Solution 2:\n",
      ".Q..\n",
      "...Q\n",
      "Q...\n",
      "..Q.\n",
      "\n"
     ]
    }
   ],
   "source": [
    "def is_safe(board, row, col, n):\n",
    "    # Check the left side of the current row\n",
    "    for i in range(col):\n",
    "        if board[row][i] == 1:\n",
    "            return False\n",
    "\n",
    "    # Check upper diagonal on the left side\n",
    "    for i, j in zip(range(row, -1, -1), range(col, -1, -1)):\n",
    "        if board[i][j] == 1:\n",
    "            return False\n",
    "\n",
    "    # Check lower diagonal on the left side\n",
    "    for i, j in zip(range(row, n), range(col, -1, -1)):\n",
    "        if board[i][j] == 1:\n",
    "            return False\n",
    "\n",
    "    return True\n",
    "\n",
    "def solve_n_queens_util(board, col, n, result):\n",
    "    if col == n:\n",
    "        result.append([\"\".join([\"Q\" if cell == 1 else \".\" for cell in row]) for row in board])\n",
    "        return\n",
    "\n",
    "    for i in range(n):\n",
    "        if is_safe(board, i, col, n):\n",
    "            board[i][col] = 1\n",
    "            solve_n_queens_util(board, col + 1, n, result)\n",
    "            board[i][col] = 0\n",
    "\n",
    "def solve_n_queens(n):\n",
    "    board = [[0 for _ in range(n)] for _ in range(n)]\n",
    "    result = []\n",
    "\n",
    "    solve_n_queens_util(board, 0, n, result)\n",
    "\n",
    "    return result\n",
    "\n",
    "\n",
    "n = 4\n",
    "solutions = solve_n_queens(n)\n",
    "for i, solution in enumerate(solutions):\n",
    "    print(f\"Solution {i + 1}:\")\n",
    "    for row in solution:\n",
    "        print(row)\n",
    "    print()\n"
   ]
  }
 ],
 "metadata": {
  "kernelspec": {
   "display_name": "Python 3 (ipykernel)",
   "language": "python",
   "name": "python3"
  },
  "language_info": {
   "codemirror_mode": {
    "name": "ipython",
    "version": 3
   },
   "file_extension": ".py",
   "mimetype": "text/x-python",
   "name": "python",
   "nbconvert_exporter": "python",
   "pygments_lexer": "ipython3",
   "version": "3.10.9"
  }
 },
 "nbformat": 4,
 "nbformat_minor": 5
}
